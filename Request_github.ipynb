{
 "cells": [
  {
   "cell_type": "code",
   "execution_count": 1,
   "metadata": {
    "collapsed": true
   },
   "outputs": [],
   "source": [
    "import numpy as np\n",
    "import pandas as pd\n",
    "import urllib.request\n",
    "import json\n",
    "from random import randint\n",
    "from time import sleep, time"
   ]
  },
  {
   "cell_type": "code",
   "execution_count": 2,
   "metadata": {},
   "outputs": [],
   "source": [
    "public_rep = []\n",
    "num_repos = 10000\n",
    "\n",
    "id = 0\n",
    "token = '' #your token goes here\n",
    "\n",
    "while(True):\n",
    "    json_repo = json.loads(urllib.request.urlopen(\"https://api.github.com/repositories?access_token=\"+token+\"&since=\" + str(id)).read())\n",
    "    for repo in json_repo:\n",
    "        if repo['fork'] == False:\n",
    "            public_rep.append(repo['full_name'])\n",
    "            \n",
    "    if(len(public_rep) > num_repos - 1):\n",
    "        break\n",
    "    id = int(json_repo[-1]['id'])   \n",
    "    \n",
    "repositorios_df = pd.DataFrame()\n",
    "repositorios_df['Nome_do_repositorio'] = public_rep"
   ]
  },
  {
   "cell_type": "code",
   "execution_count": 3,
   "metadata": {
    "collapsed": true
   },
   "outputs": [],
   "source": [
    "repositorios_df.to_csv(\"Lista de repositorios.csv\")"
   ]
  },
  {
   "cell_type": "code",
   "execution_count": 4,
   "metadata": {},
   "outputs": [],
   "source": [
    "json.loads(urllib.request.urlopen(\"https://api.github.com/rate_limit?access_token=6d96532167b862681ad478088783736678a0d8b1\").read())"
   ]
  }
 ],
 "metadata": {
  "kernelspec": {
   "display_name": "Python 3",
   "language": "python",
   "name": "python3"
  },
  "language_info": {
   "codemirror_mode": {
    "name": "ipython",
    "version": 3
   },
   "file_extension": ".py",
   "mimetype": "text/x-python",
   "name": "python",
   "nbconvert_exporter": "python",
   "pygments_lexer": "ipython3",
   "version": "3.6.2"
  }
 },
 "nbformat": 4,
 "nbformat_minor": 2
}
