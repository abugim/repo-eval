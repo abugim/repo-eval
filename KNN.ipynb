{
 "cells": [
  {
   "cell_type": "code",
   "execution_count": null,
   "metadata": {},
   "outputs": [],
   "source": [
    "import numpy as np\n",
    "import pandas as pd\n",
    "\n",
    "from sklearn.neighbors import KNeighborsRegressor\n",
    "from sklearn.metrics import mean_squared_error \n",
    "from sklearn.model_selection import cross_val_score, KFold\n",
    "\n",
    "import seaborn as sns\n",
    "\n",
    "import matplotlib.pyplot as plt"
   ]
  },
  {
   "cell_type": "code",
   "execution_count": null,
   "metadata": {},
   "outputs": [],
   "source": [
    "git_df = pd.read_csv('git_stats.csv', index_col=0)\n",
    "git_df.head()"
   ]
  },
  {
   "cell_type": "code",
   "execution_count": null,
   "metadata": {},
   "outputs": [],
   "source": [
    "target = 'stars'\n",
    "features = ['commits', 'branches', 'releases', 'watchers', 'forks', 'issues_open', 'issues_closed']\n",
    "n_neighbors = 5\n",
    "q_75 = int(len(git_df)*.75)"
   ]
  },
  {
   "cell_type": "code",
   "execution_count": null,
   "metadata": {},
   "outputs": [],
   "source": [
    "# Normalizar\n",
    "feat_df = git_df[features]\n",
    "feat_df = (feat_df - feat_df.mean())/feat_df.std()\n",
    "git_norm_df = git_df.copy()\n",
    "git_norm_df[features] = feat_df\n",
    "git_norm_df.head()"
   ]
  },
  {
   "cell_type": "code",
   "execution_count": null,
   "metadata": {},
   "outputs": [],
   "source": [
    "sns.set(style=\"white\")\n",
    "corr = git_norm_df[['stars'] + features].corr()\n",
    "f, ax = plt.subplots(figsize=(11, 9))\n",
    "cmap = sns.diverging_palette(150, 275, s=80, l=55, as_cmap=True)\n",
    "\n",
    "sns.heatmap(corr, cmap=cmap, vmax=1, vmin=0, center=0, annot=True)\n",
    "plt.show()"
   ]
  },
  {
   "cell_type": "code",
   "execution_count": null,
   "metadata": {},
   "outputs": [],
   "source": [
    "strong_correlated_feats = [\n",
    "    ['watchers', 'forks'],\n",
    "    ['watchers'],\n",
    "    ['forks']\n",
    "]\n",
    "\n",
    "correlated_feats = [\n",
    "    ['watchers', 'forks', 'issues_open'],\n",
    "    ['watchers', 'issues_open'],\n",
    "    ['forks', 'issues_open'],\n",
    "    ['issues_open']\n",
    "]\n",
    "\n",
    "uncorrelated_feats = [\n",
    "    ['commits', 'branches', 'releases'],\n",
    "    ['commits', 'branches'],\n",
    "    ['commits', 'releases'],\n",
    "    ['branches', 'releases'],\n",
    "    ['commits'],\n",
    "    ['branches'],\n",
    "    ['releases']\n",
    "]\n",
    "\n",
    "mixed_feats = [\n",
    "    ['commits', 'branches', 'releases', 'watchers', 'forks', 'issues_open', 'issues_closed'], \n",
    "    ['releases', 'watchers', 'forks', 'issues_open'],\n",
    "    ['branches', 'releases', 'watchers', 'forks'],\n",
    "    ['branches', 'releases', 'issues_open', 'issues_closed'],\n",
    "    ['commits','watchers', 'forks'],\n",
    "    ['commits', 'branches', 'watchers', 'forks']\n",
    "]"
   ]
  },
  {
   "cell_type": "code",
   "execution_count": null,
   "metadata": {},
   "outputs": [],
   "source": [
    "hyper_params = np.arange(1, 21)\n",
    "folds = np.arange(3, 22, 2)"
   ]
  },
  {
   "cell_type": "code",
   "execution_count": null,
   "metadata": {},
   "outputs": [],
   "source": [
    "def eval_setting(df, feat_list, hyper_params, folds):\n",
    "    index = pd.MultiIndex.from_product([range(7), hyper_params, folds], names=['feat_list', 'hyper_param', 'fold'])\n",
    "    rmse = pd.DataFrame(columns=['avg', 'std'], index=index)\n",
    "\n",
    "    for i, feats in enumerate(feat_list):\n",
    "        for hp in hyper_params:\n",
    "            for fold in folds:\n",
    "                kf = KFold(fold, shuffle=True, random_state=1)\n",
    "                model = KNeighborsRegressor(n_neighbors=hp)\n",
    "                mses = cross_val_score(model,\n",
    "                                       df[feats],\n",
    "                                       df[target],\n",
    "                                       scoring=\"neg_mean_squared_error\",\n",
    "                                       cv=kf)\n",
    "                rmses = np.sqrt(np.absolute(mses))\n",
    "                rmse[i, hp, fold, 'avg'] = np.mean(rmses)\n",
    "                rmse[i, hp, fold, 'std'] = np.std(rmses)\n",
    "    return rmse"
   ]
  },
  {
   "cell_type": "code",
   "execution_count": null,
   "metadata": {},
   "outputs": [],
   "source": [
    "strong_rmse = eval_setting(git_norm_df, strong_correlated_feats, hyper_params, folds)\n",
    "corr_rmse   = eval_setting(git_norm_df, correlated_feats, hyper_params, folds)\n",
    "uncorr_rmse = eval_setting(git_norm_df, uncorrelated_feats, hyper_params, folds)\n",
    "mixed_rmse  = eval_setting(git_norm_df, mixed_feats, hyper_params, folds)"
   ]
  }
 ],
 "metadata": {
  "kernelspec": {
   "display_name": "Python 3",
   "language": "python",
   "name": "python3"
  },
  "language_info": {
   "codemirror_mode": {
    "name": "ipython",
    "version": 3
   },
   "file_extension": ".py",
   "mimetype": "text/x-python",
   "name": "python",
   "nbconvert_exporter": "python",
   "pygments_lexer": "ipython3",
   "version": "3.6.2"
  }
 },
 "nbformat": 4,
 "nbformat_minor": 2
}
