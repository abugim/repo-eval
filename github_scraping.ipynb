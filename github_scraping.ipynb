{
 "cells": [
  {
   "cell_type": "code",
   "execution_count": 1,
   "metadata": {
    "collapsed": true
   },
   "outputs": [],
   "source": [
    "import pandas as pd\n",
    "import numpy as np\n",
    "from requests import get\n",
    "from bs4 import BeautifulSoup\n",
    "from time import sleep, time\n",
    "from random import randint\n",
    "from warnings import warn\n",
    "from IPython.core.display import clear_output\n",
    "from selenium import webdriver"
   ]
  },
  {
   "cell_type": "code",
   "execution_count": null,
   "metadata": {
    "collapsed": true
   },
   "outputs": [],
   "source": [
    "def get_browser_url_reponse(url, param):\n",
    "    url_git = url.format(param)\n",
    "    browser.get(url_git)\n",
    "    return browser\n",
    "    "
   ]
  },
  {
   "cell_type": "code",
   "execution_count": 60,
   "metadata": {},
   "outputs": [],
   "source": [
    "def get_value(soup, select, *args):\n",
    "    value = soup.select(select)\n",
    "    \n",
    "    if(len(value) !=0):\n",
    "        if args:\n",
    "            return int(''.join(filter(str.isdigit, value[arg].text)))\n",
    "        else:\n",
    "            return int(''.join(filter(str.isdigit, value[0].text))) \n",
    "    else:\n",
    "        return 0"
   ]
  },
  {
   "cell_type": "code",
   "execution_count": 4,
   "metadata": {
    "collapsed": true
   },
   "outputs": [],
   "source": [
    "variables = ['commits','branches', 'release', 'contributors','watchers', 'forks','stars', 'issues_open', 'issues_closed']"
   ]
  },
  {
   "cell_type": "code",
   "execution_count": 2,
   "metadata": {
    "collapsed": true
   },
   "outputs": [],
   "source": [
    "df_repos = pd.read_csv('Lista de repositorios.csv')\n",
    "full_names = df_repos['Nome_do_repositorio']"
   ]
  },
  {
   "cell_type": "code",
   "execution_count": null,
   "metadata": {
    "collapsed": true
   },
   "outputs": [],
   "source": [
    "full_names = df_repos['Nome_do_repositorio']\n",
    "\n",
    "requests = 0\n",
    "start_time = time()\n",
    "elapsed_time = 0\n",
    "\n",
    "stats_by_repo = []\n",
    "browser = webdriver.PhantomJS(service_args=['--ignore-ssl-errors=true'])\n",
    "\n",
    "for name_repo in full_names_test:   \n",
    "    \n",
    "    browser = get_browser_url_response('http://www.github.com/{}', name_repo)\n",
    "    sleep(randint(1,6))\n",
    "\n",
    "    requests += 1\n",
    "    elapsed_time = time() - start_time\n",
    "    print('Request:{}; Frequency: {} requests/s'.format(requests, requests/elapsed_time))\n",
    "    clear_output(wait = True)\n",
    "\n",
    "    if response.status_code != 200:\n",
    "       warn('Request: {}; Status code: {}'.format(requests, response.status_code))\n",
    "\n",
    "    if requests > len(full_names):\n",
    "        warn('Numero de requests maior que o espperado')  \n",
    "        break\n",
    "    \n",
    "    pagina_soup = BeautifulSoup(browser.page_source, 'lxml')\n",
    "    \n",
    "    commits = get_value(soup, \"li.commits span.num\")\n",
    "    branches = get_value(soup,\"a[href='/\"+name_repo+\"/branches'] span.num\")\n",
    "    releases = get_value(soup, \"a[href='/\"+name_repo+\"/releases'] span.num\")\n",
    "    contributors = get_value(soup, \"a[href='/\"+name_repo+\"/graphs/contributor\")\n",
    "    watchers = get_value(soup, \"a[href='/\"+name_repo+\"/watchers']\")\n",
    "    forks = get_value(soup, \"a[href='/\"+name_repo+\"/network\")\n",
    "    stars = get_value(soup, \"a[href='/\"+name_repo+\"/stargazers\")\n",
    "    \n",
    "    url_git_issues = 'http://www.github.com/{}/issues'\n",
    "    browser = get_browser_url_response(url_git_issues, name_repo)\n",
    "    \n",
    "    soup = BeautifulSoup(browser.page_source, 'lxml')\n",
    "    \n",
    "    issues_open = get_value(soup, 'div.issues-listing div.table-list-filters a', 0)\n",
    "    issues_closed = get_value(soup, 'div.issues-listing div.table-list-filters a', 1)\n",
    "    \n",
    "       \n",
    "    \n",
    "    "
   ]
  },
  {
   "cell_type": "code",
   "execution_count": 77,
   "metadata": {},
   "outputs": [
    {
     "name": "stdout",
     "output_type": "stream",
     "text": [
      "\n",
      "      1,877\n",
      "    \n"
     ]
    }
   ],
   "source": [
    "full_names_test = full_names[0:3]\n",
    "\n",
    "url_git = 'http://www.github.com/{}'.format(full_names_test[0])\n",
    "browser = webdriver.PhantomJS(service_args=['--ignore-ssl-errors=true'])\n",
    "browser.get(url_git)\n",
    "\n",
    "\n",
    "html = browser.page_source\n",
    "pagina_soup = BeautifulSoup(html, 'lxml')\n",
    "\n",
    "#pagina_soup = BeautifulSoup(response.text, 'html.parser')\n",
    "#commits = pagina_soup.select(\"li.commits span.num\")[0].text\n",
    "#branches = pagina_soup.select(\"a[href='/\"+full_names_test[0]+\"/branches'] span.num\")[0].text\n",
    "#realeases = pagina_soup.select(\"a[href='/\"+full_names_test[0]+\"/releases'] span.num\")[0].text\n",
    "#contributors = pagina_soup.select(\"a[href='/\"+full_names_test[1]+\"/graphs/contributors']\")\n",
    "#watchers = pagina_soup.select(\"a[href='/\"+full_names_test[0]+\"/watchers']\")[0].text\n",
    "#forks = pagina_soup.select(\"a[href='/\"+full_names_test[0]+\"/network']\")[0].text\n",
    "stars = pagina_soup.select(\"a[href='/\"+full_names_test[0]+\"/stargazers']\")[0].text\n",
    "\n",
    "url_git_issues = 'http://www.github.com/{}/issues'.format(full_names_test[0])\n",
    "browser.get(url_git_issues)\n",
    "\n",
    "html = browser.page_source\n",
    "pagina_soup = BeautifulSoup(html, 'lxml')\n",
    "                            \n",
    "#issues_open = pagina_soup.select(\"div.issues-listing div.table-list-filters a\")[0].text\n",
    "#issues_closed = pagina_soup.select(\"div.issues-listing div.table-list-filters a\")[1].text\n",
    "\n",
    "print((stars))"
   ]
  },
  {
   "cell_type": "code",
   "execution_count": 54,
   "metadata": {},
   "outputs": [
    {
     "data": {
      "text/plain": [
       "103"
      ]
     },
     "execution_count": 54,
     "metadata": {},
     "output_type": "execute_result"
    }
   ],
   "source": [
    "int(''.join(filter(str.isdigit, issues_closed)))   \n",
    "    "
   ]
  },
  {
   "cell_type": "code",
   "execution_count": 71,
   "metadata": {},
   "outputs": [
    {
     "data": {
      "text/html": [
       "<div>\n",
       "<style>\n",
       "    .dataframe thead tr:only-child th {\n",
       "        text-align: right;\n",
       "    }\n",
       "\n",
       "    .dataframe thead th {\n",
       "        text-align: left;\n",
       "    }\n",
       "\n",
       "    .dataframe tbody tr th {\n",
       "        vertical-align: top;\n",
       "    }\n",
       "</style>\n",
       "<table border=\"1\" class=\"dataframe\">\n",
       "  <thead>\n",
       "    <tr style=\"text-align: right;\">\n",
       "      <th></th>\n",
       "    </tr>\n",
       "  </thead>\n",
       "  <tbody>\n",
       "  </tbody>\n",
       "</table>\n",
       "</div>"
      ],
      "text/plain": [
       "Empty DataFrame\n",
       "Columns: []\n",
       "Index: []"
      ]
     },
     "execution_count": 71,
     "metadata": {},
     "output_type": "execute_result"
    }
   ],
   "source": [
    "df = pd.DataFrame()\n",
    "a = [1,2,3,4,5]"
   ]
  },
  {
   "cell_type": "code",
   "execution_count": 87,
   "metadata": {},
   "outputs": [
    {
     "data": {
      "text/plain": [
       "\"a[href='/mojombo/grit/issues?q=is%3Aopen+is%3Aissue']\""
      ]
     },
     "execution_count": 87,
     "metadata": {},
     "output_type": "execute_result"
    }
   ],
   "source": [
    "\"a[href='/\"+full_names_test[0]+\"/stargazers']\"\n",
    "(\"a[href='/\"+full_names_test[0]+\"/issues?q=is%3Aopen+is%3Aissue']\")"
   ]
  },
  {
   "cell_type": "code",
   "execution_count": 65,
   "metadata": {},
   "outputs": [
    {
     "data": {
      "text/plain": [
       "0         mojombo/grit\n",
       "1     wycats/merb-core\n",
       "2    rubinius/rubinius\n",
       "Name: Nome_do_repositorio, dtype: object"
      ]
     },
     "execution_count": 65,
     "metadata": {},
     "output_type": "execute_result"
    }
   ],
   "source": [
    "full_names_test"
   ]
  }
 ],
 "metadata": {
  "kernelspec": {
   "display_name": "Python 3",
   "language": "python",
   "name": "python3"
  },
  "language_info": {
   "codemirror_mode": {
    "name": "ipython",
    "version": 3
   },
   "file_extension": ".py",
   "mimetype": "text/x-python",
   "name": "python",
   "nbconvert_exporter": "python",
   "pygments_lexer": "ipython3",
   "version": "3.6.1"
  }
 },
 "nbformat": 4,
 "nbformat_minor": 2
}
