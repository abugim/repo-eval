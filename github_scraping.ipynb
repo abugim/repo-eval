{
 "cells": [
  {
   "cell_type": "code",
   "execution_count": 1,
   "metadata": {},
   "outputs": [],
   "source": [
    "import pandas as pd\n",
    "import numpy as np\n",
    "from requests import get\n",
    "from bs4 import BeautifulSoup\n",
    "from time import sleep, time\n",
    "from random import randint\n",
    "from warnings import warn\n",
    "from IPython.core.display import clear_output\n",
    "from selenium import webdriver"
   ]
  },
  {
   "cell_type": "code",
   "execution_count": 2,
   "metadata": {},
   "outputs": [],
   "source": [
    "def get_browser_url_reponse(url, param, browser):\n",
    "    url_git = url.format(param)\n",
    "    browser.get(url_git)\n",
    "    return browser"
   ]
  },
  {
   "cell_type": "code",
   "execution_count": 3,
   "metadata": {},
   "outputs": [],
   "source": [
    "def get_value(soup, select, *args):\n",
    "    value = soup.select(select)\n",
    "    if args:\n",
    "        return int(''.join(filter(str.isdigit, value[args[0]].text)))\n",
    "    else:\n",
    "        return int(''.join(filter(str.isdigit, value[0].text))) "
   ]
  },
  {
   "cell_type": "code",
   "execution_count": 4,
   "metadata": {},
   "outputs": [],
   "source": [
    "def is_empty(soup, select, *args):\n",
    "    value = soup.select(select)    \n",
    "    if(len(value)==0):\n",
    "        return True\n",
    "    else:\n",
    "        return False"
   ]
  },
  {
   "cell_type": "code",
   "execution_count": 5,
   "metadata": {},
   "outputs": [],
   "source": [
    "df_repos = pd.read_csv('repo_fullname_list.csv')\n",
    "full_names = df_repos['Nome_do_repositorio']\n",
    "\n",
    "git_stats = pd.DataFrame(columns=['full_name', 'commits', 'branches', 'releases', 'watchers', 'forks', 'issues_open',\n",
    "                                  'issues_closed', 'stars'])"
   ]
  },
  {
   "cell_type": "code",
   "execution_count": 6,
   "metadata": {},
   "outputs": [],
   "source": [
    "requests = 0\n",
    "start_time = time()\n",
    "elapsed_time = 0\n",
    "\n",
    "browser = webdriver.PhantomJS(executable_path=r'./phantomjs', service_args=['--ignore-ssl-errors=true'])\n",
    "\n",
    "for i in np.arange(0, len(full_names)):   \n",
    "    \n",
    "    browser = get_browser_url_reponse('http://www.github.com/{}', full_names[i], browser)\n",
    "    sleep(randint(1,6))\n",
    "    soup = BeautifulSoup(browser.page_source, 'lxml')\n",
    "\n",
    "    requests += 1\n",
    "    elapsed_time = time() - start_time\n",
    "    print('Request:{}; Repo:{}; Frequency: {} requests/s'.format(requests, full_names[i], requests/elapsed_time))\n",
    "    clear_output(wait = True)\n",
    "\n",
    "    if not is_empty(soup, \"div.overall-summary.overall-summary-bottomless\"):\n",
    "        commits = get_value(soup, \"li.commits span.num\")\n",
    "        branches = get_value(soup,\"a[href='/\"+full_names[i]+\"/branches'] span.num\")\n",
    "        releases = get_value(soup, \"a[href='/\"+full_names[i]+\"/releases'] span.num\")\n",
    "        watchers = get_value(soup, \"a[href='/\"+full_names[i]+\"/watchers']\")\n",
    "        forks = get_value(soup, \"a[href='/\"+full_names[i]+\"/network']\")\n",
    "        stars = get_value(soup, \"a[href='/\"+full_names[i]+\"/stargazers']\")\n",
    "    \n",
    "        url_git_issues = 'http://www.github.com/{}/issues'\n",
    "        browser = get_browser_url_reponse(url_git_issues, full_names[i], browser)\n",
    "        soup = BeautifulSoup(browser.page_source, 'lxml')\n",
    "    \n",
    "        if(not is_empty(soup, 'div.issues-listing div.table-list-filters a', 0)):\n",
    "            issues_open = get_value(soup, 'div.issues-listing div.table-list-filters a', 0)\n",
    "        else:\n",
    "            issues_open = 0\n",
    "        \n",
    "        if(not is_empty(soup, 'div.issues-listing div.table-list-filters a', 1)):\n",
    "            issues_closed = get_value(soup, 'div.issues-listing div.table-list-filters a', 1)\n",
    "        else:\n",
    "            issues_closed = 0\n",
    "    \n",
    "        git_stats.loc[i] = [full_names[i], commits, branches, releases, watchers, forks, issues_open, issues_closed, stars]\n",
    "\n",
    "git_stats.to_csv('git_stats.csv')"
   ]
  }
 ],
 "metadata": {
  "kernelspec": {
   "display_name": "Python 3",
   "language": "python",
   "name": "python3"
  },
  "language_info": {
   "codemirror_mode": {
    "name": "ipython",
    "version": 3
   },
   "file_extension": ".py",
   "mimetype": "text/x-python",
   "name": "python",
   "nbconvert_exporter": "python",
   "pygments_lexer": "ipython3",
   "version": "3.6.2"
  }
 },
 "nbformat": 4,
 "nbformat_minor": 2
}
